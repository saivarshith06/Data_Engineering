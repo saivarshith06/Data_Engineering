{
 "cells": [
  {
   "cell_type": "markdown",
   "id": "56ffdbb5-8338-4617-bc48-3619407b2b1a",
   "metadata": {},
   "source": [
    "## Medallion Architecture"
   ]
  },
  {
   "cell_type": "markdown",
   "id": "9f145d36-d73f-4b2c-8804-f68d4c5e17cc",
   "metadata": {},
   "source": [
    "### Bronze Layer"
   ]
  },
  {
   "cell_type": "code",
   "execution_count": 1,
   "id": "196698aa-493d-488f-bdcf-33e87e7b7154",
   "metadata": {},
   "outputs": [],
   "source": [
    "import pandas as pd\n",
    "import sqlite3"
   ]
  },
  {
   "cell_type": "code",
   "execution_count": 2,
   "id": "46b3b9f8-f570-4e77-bfa8-60753e922ae2",
   "metadata": {},
   "outputs": [],
   "source": [
    "def read_csv_to_dfs(file_paths, df_names, globals_dict):\n",
    "\n",
    "    if len(file_paths) != len(df_names):\n",
    "        raise ValueError(\"The number of file paths and DataFrame names must be the same.\")\n",
    "    \n",
    "    for file_path, name in zip(file_paths, df_names):\n",
    "        globals_dict[name] = pd.read_csv(file_path)"
   ]
  },
  {
   "cell_type": "code",
   "execution_count": 3,
   "id": "f67d46d5-cb42-4ca7-96f5-1e2341374afe",
   "metadata": {},
   "outputs": [],
   "source": [
    "file_paths = ['project_1/911_Calls/LAPD_Calls_for_Service_2021.csv','project_1/911_Calls/LAPD_Calls_for_Service_2022.csv','project_1/911_Calls/LAPD_Calls_for_Service_2023.csv']\n",
    "df_names = ['call_911_21','call_911_22','call_911_23']\n",
    "\n",
    "read_csv_to_dfs(file_paths, df_names, globals())"
   ]
  },
  {
   "cell_type": "code",
   "execution_count": 4,
   "id": "098cb095-dc69-43ec-8a0d-11e5d6d0d461",
   "metadata": {},
   "outputs": [
    {
     "data": {
      "text/html": [
       "<div>\n",
       "<style scoped>\n",
       "    .dataframe tbody tr th:only-of-type {\n",
       "        vertical-align: middle;\n",
       "    }\n",
       "\n",
       "    .dataframe tbody tr th {\n",
       "        vertical-align: top;\n",
       "    }\n",
       "\n",
       "    .dataframe thead th {\n",
       "        text-align: right;\n",
       "    }\n",
       "</style>\n",
       "<table border=\"1\" class=\"dataframe\">\n",
       "  <thead>\n",
       "    <tr style=\"text-align: right;\">\n",
       "      <th></th>\n",
       "      <th>Incident_Number</th>\n",
       "      <th>Area_Occ</th>\n",
       "      <th>Rpt_Dist</th>\n",
       "      <th>Dispatch_Date</th>\n",
       "      <th>Dispatch_Time</th>\n",
       "      <th>Call_Type_Code</th>\n",
       "      <th>Call_Type_Text</th>\n",
       "    </tr>\n",
       "  </thead>\n",
       "  <tbody>\n",
       "    <tr>\n",
       "      <th>0</th>\n",
       "      <td>PD21061400005156</td>\n",
       "      <td>Outside</td>\n",
       "      <td>NaN</td>\n",
       "      <td>06/14/2021 12:00:00 AM</td>\n",
       "      <td>23:28:27</td>\n",
       "      <td>902</td>\n",
       "      <td>TRAFFIC STOP</td>\n",
       "    </tr>\n",
       "    <tr>\n",
       "      <th>1</th>\n",
       "      <td>PD21061100000067</td>\n",
       "      <td>Northeast</td>\n",
       "      <td>1116.0</td>\n",
       "      <td>06/11/2021 12:00:00 AM</td>\n",
       "      <td>00:22:10</td>\n",
       "      <td>507P</td>\n",
       "      <td>PARTY</td>\n",
       "    </tr>\n",
       "    <tr>\n",
       "      <th>2</th>\n",
       "      <td>PD21061400005022</td>\n",
       "      <td>Outside</td>\n",
       "      <td>NaN</td>\n",
       "      <td>06/14/2021 12:00:00 AM</td>\n",
       "      <td>22:53:07</td>\n",
       "      <td>006</td>\n",
       "      <td>CODE 6</td>\n",
       "    </tr>\n",
       "    <tr>\n",
       "      <th>3</th>\n",
       "      <td>PD21061200000206</td>\n",
       "      <td>Outside</td>\n",
       "      <td>NaN</td>\n",
       "      <td>06/12/2021 12:00:00 AM</td>\n",
       "      <td>00:41:01</td>\n",
       "      <td>006</td>\n",
       "      <td>CODE 6</td>\n",
       "    </tr>\n",
       "    <tr>\n",
       "      <th>4</th>\n",
       "      <td>PD21061300004840</td>\n",
       "      <td>Hollenbeck</td>\n",
       "      <td>427.0</td>\n",
       "      <td>06/13/2021 12:00:00 AM</td>\n",
       "      <td>22:12:19</td>\n",
       "      <td>594H</td>\n",
       "      <td>CZN HLDG</td>\n",
       "    </tr>\n",
       "  </tbody>\n",
       "</table>\n",
       "</div>"
      ],
      "text/plain": [
       "    Incident_Number    Area_Occ  Rpt_Dist           Dispatch_Date  \\\n",
       "0  PD21061400005156     Outside       NaN  06/14/2021 12:00:00 AM   \n",
       "1  PD21061100000067   Northeast    1116.0  06/11/2021 12:00:00 AM   \n",
       "2  PD21061400005022     Outside       NaN  06/14/2021 12:00:00 AM   \n",
       "3  PD21061200000206     Outside       NaN  06/12/2021 12:00:00 AM   \n",
       "4  PD21061300004840  Hollenbeck     427.0  06/13/2021 12:00:00 AM   \n",
       "\n",
       "  Dispatch_Time Call_Type_Code Call_Type_Text  \n",
       "0      23:28:27            902   TRAFFIC STOP  \n",
       "1      00:22:10           507P          PARTY  \n",
       "2      22:53:07            006         CODE 6  \n",
       "3      00:41:01            006         CODE 6  \n",
       "4      22:12:19           594H       CZN HLDG  "
      ]
     },
     "execution_count": 4,
     "metadata": {},
     "output_type": "execute_result"
    }
   ],
   "source": [
    "call_911_21.head()"
   ]
  },
  {
   "cell_type": "code",
   "execution_count": 7,
   "id": "01f5b15c-aa6e-4b6d-a363-3020d75f7222",
   "metadata": {},
   "outputs": [],
   "source": [
    "\n",
    "def save_dfs_to_sqlite(dataframes, table_names, db_name):\n",
    "    \n",
    "    if len(dataframes) != len(table_names):\n",
    "        raise ValueError(\"The number of DataFrames and table names must be the same.\")\n",
    "\n",
    "    conn = sqlite3.connect(db_name)\n",
    "    \n",
    "    for df, table_name in zip(dataframes, table_names):\n",
    "        df.to_sql(table_name, conn, if_exists='replace', index=False)\n",
    "        print(f\"Table '{table_name}' created successfully in {db_name}.\")\n",
    "    \n",
    "    conn.close()\n"
   ]
  },
  {
   "cell_type": "code",
   "execution_count": 8,
   "id": "fe01b23d-816e-4964-ac34-833373018f35",
   "metadata": {},
   "outputs": [
    {
     "name": "stdout",
     "output_type": "stream",
     "text": [
      "Table 'call_911_21' created successfully in bronze_layer.db.\n",
      "Table 'call_911_22' created successfully in bronze_layer.db.\n",
      "Table 'call_911_23' created successfully in bronze_layer.db.\n"
     ]
    }
   ],
   "source": [
    "dataframes = [call_911_21,call_911_21,call_911_21] \n",
    "table_names = [\"call_911_21\", \"call_911_22\", \"call_911_23\"]\n",
    "\n",
    "save_dfs_to_sqlite(dataframes, table_names, 'bronze_layer.db')\n"
   ]
  },
  {
   "cell_type": "markdown",
   "id": "5fa6963f-60f1-4666-9620-82d6cf58cfcd",
   "metadata": {},
   "source": [
    "### SQL QUERIES"
   ]
  },
  {
   "cell_type": "code",
   "execution_count": 55,
   "id": "8d9406a4-69c4-4fef-8e17-53c4dbfef824",
   "metadata": {},
   "outputs": [
    {
     "name": "stdout",
     "output_type": "stream",
     "text": [
      "Number of rows in 911_transformed: 1579265\n",
      "('PD21061400005156', 'Outside', None, '06/14/2021 12:00:00 AM', '23:28:27', '902', 'TRAFFIC STOP')\n",
      "('PD21061100000067', 'Northeast', 1116.0, '06/11/2021 12:00:00 AM', '00:22:10', '507P', 'PARTY')\n",
      "('PD21061400005022', 'Outside', None, '06/14/2021 12:00:00 AM', '22:53:07', '006', 'CODE 6')\n",
      "('PD21061200000206', 'Outside', None, '06/12/2021 12:00:00 AM', '00:41:01', '006', 'CODE 6')\n",
      "('PD21061300004840', 'Hollenbeck', 427.0, '06/13/2021 12:00:00 AM', '22:12:19', '594H', 'CZN HLDG')\n",
      "('PD21061200003555', '77th Street', 1267.0, '06/12/2021 12:00:00 AM', '18:39:20', '620FR', 'FAMILY R/O')\n",
      "('PD21061200005040', 'Outside', None, '06/12/2021 12:00:00 AM', '22:43:08', '006', 'CODE 6')\n",
      "('PD21061400000703', 'Outside', None, '06/14/2021 12:00:00 AM', '05:03:01', '006', 'CODE 6')\n",
      "('PD21061400000478', '77th Street', 1215.0, '06/14/2021 12:00:00 AM', '02:51:54', '503T3J', 'ATT GTA J/O')\n",
      "('PD21061400002440', 'N Hollywood', 1548.0, '06/14/2021 12:00:00 AM', '13:06:50', '907A3', 'AMB ATT SUICIDE')\n"
     ]
    }
   ],
   "source": [
    "conn_bronze = sqlite3.connect('bronze_layer.db')\n",
    "cursor = conn_bronze.cursor()\n",
    "cursor.execute('''SELECT COUNT(*) FROM \"call_911_21\";''')\n",
    "count_result = cursor.fetchone()[0]  # Fetch the result and get the count\n",
    "print(f\"Number of rows in 911_transformed: {count_result}\")\n",
    "\n",
    "cursor.execute('''SELECT * FROM call_911_21 LIMIT 10 ;''')\n",
    "rows = cursor.fetchall()\n",
    "\n",
    "if rows:\n",
    "    for row in rows:\n",
    "        print(row)\n",
    "else:\n",
    "    print(\"No data found.\")\n",
    "conn_bronze.close()"
   ]
  },
  {
   "cell_type": "markdown",
   "id": "1d86a442-c91e-4161-be19-f1938e6aeca4",
   "metadata": {},
   "source": [
    "### Silver Layer"
   ]
  },
  {
   "cell_type": "markdown",
   "id": "b8f3af83-05de-4dd9-b04f-6f8647c259f4",
   "metadata": {},
   "source": [
    "### Combining Data Sources"
   ]
  },
  {
   "cell_type": "code",
   "execution_count": 21,
   "id": "344d23c3-bde5-4678-87a9-4134f8d96943",
   "metadata": {},
   "outputs": [],
   "source": [
    "conn_bronze = sqlite3.connect('bronze_layer.db')\n",
    "cursor_bronze = conn_bronze.cursor()\n",
    "cursor_bronze.execute('''\n",
    "    SELECT * FROM call_911_21\n",
    "    UNION ALL\n",
    "    SELECT * FROM call_911_22\n",
    "    UNION ALL\n",
    "    SELECT * FROM call_911_23;\n",
    "''')\n",
    "combined_data = cursor_bronze.fetchall() \n",
    "column_names = [description[0] for description in cursor_bronze.description]\n",
    "\n",
    "conn_bronze.close()\n",
    "\n",
    "conn_silver = sqlite3.connect('silver_layer.db')\n",
    "cursor_silver = conn_silver.cursor()\n",
    "\n",
    "cursor_silver.execute(f'''\n",
    "    CREATE TABLE IF NOT EXISTS call_911_combined ({\", \".join(column_names)});\n",
    "''')\n",
    "\n",
    "cursor_silver.executemany(f'''\n",
    "    INSERT INTO call_911_combined VALUES ({\", \".join(['?'] * len(column_names))});\n",
    "''', combined_data)\n",
    "\n",
    "conn_silver.commit()\n",
    "\n",
    "conn_silver.close()\n"
   ]
  },
  {
   "cell_type": "markdown",
   "id": "60d1aa8f-f7bb-4185-95b8-8297e35f0297",
   "metadata": {},
   "source": [
    "### TRANSFORMATIONS"
   ]
  },
  {
   "cell_type": "code",
   "execution_count": 31,
   "id": "7daeeb65-f2d0-4c71-ac86-1b71890f81fa",
   "metadata": {},
   "outputs": [],
   "source": [
    "conn_silver = sqlite3.connect('silver_layer.db')\n",
    "df_combined = pd.read_sql_query('SELECT * FROM call_911_combined', conn_silver)\n",
    "\n",
    "df_transformed = df_combined.drop(['Rpt_Dist'], axis=1)\n",
    "def add_time_components(df, date_column):\n",
    "    df['day_of_week'] = pd.to_datetime(df[date_column], format='%m/%d/%Y %I:%M:%S %p').dt.day_name()\n",
    "    df['month'] = pd.to_datetime(df[date_column], format='%m/%d/%Y %I:%M:%S %p').dt.month_name()\n",
    "    df['year'] = pd.to_datetime(df[date_column], format='%m/%d/%Y %I:%M:%S %p').dt.year\n",
    "    df['date'] = pd.to_datetime(df[date_column], format='%m/%d/%Y %I:%M:%S %p').dt.date\n",
    "    return df\n",
    "\n",
    "df_transformed = add_time_components(df_transformed,'Dispatch_Date')\n",
    "df_transformed.to_sql('911_transformed', conn_silver, if_exists='replace', index=False)\n",
    "\n",
    "conn_silver.close()"
   ]
  },
  {
   "cell_type": "markdown",
   "id": "edf671b6-4ed4-4802-9737-5f7688c9e359",
   "metadata": {},
   "source": [
    "### SQL QUERIES"
   ]
  },
  {
   "cell_type": "code",
   "execution_count": 66,
   "id": "e09b171b-df4d-42b7-93b5-7337c77f9775",
   "metadata": {},
   "outputs": [
    {
     "name": "stdout",
     "output_type": "stream",
     "text": [
      "Number of rows in 911_transformed: 4737795\n",
      "('PD21061400005156', 'Outside', '06/14/2021 12:00:00 AM', '23:28:27', '902', 'TRAFFIC STOP', 'Monday', 'June', 2021, '2021-06-14')\n",
      "('PD21061100000067', 'Northeast', '06/11/2021 12:00:00 AM', '00:22:10', '507P', 'PARTY', 'Friday', 'June', 2021, '2021-06-11')\n",
      "('PD21061400005022', 'Outside', '06/14/2021 12:00:00 AM', '22:53:07', '006', 'CODE 6', 'Monday', 'June', 2021, '2021-06-14')\n",
      "('PD21061200000206', 'Outside', '06/12/2021 12:00:00 AM', '00:41:01', '006', 'CODE 6', 'Saturday', 'June', 2021, '2021-06-12')\n",
      "('PD21061300004840', 'Hollenbeck', '06/13/2021 12:00:00 AM', '22:12:19', '594H', 'CZN HLDG', 'Sunday', 'June', 2021, '2021-06-13')\n",
      "('PD21061200003555', '77th Street', '06/12/2021 12:00:00 AM', '18:39:20', '620FR', 'FAMILY R/O', 'Saturday', 'June', 2021, '2021-06-12')\n",
      "('PD21061200005040', 'Outside', '06/12/2021 12:00:00 AM', '22:43:08', '006', 'CODE 6', 'Saturday', 'June', 2021, '2021-06-12')\n",
      "('PD21061400000703', 'Outside', '06/14/2021 12:00:00 AM', '05:03:01', '006', 'CODE 6', 'Monday', 'June', 2021, '2021-06-14')\n",
      "('PD21061400000478', '77th Street', '06/14/2021 12:00:00 AM', '02:51:54', '503T3J', 'ATT GTA J/O', 'Monday', 'June', 2021, '2021-06-14')\n",
      "('PD21061400002440', 'N Hollywood', '06/14/2021 12:00:00 AM', '13:06:50', '907A3', 'AMB ATT SUICIDE', 'Monday', 'June', 2021, '2021-06-14')\n"
     ]
    }
   ],
   "source": [
    "conn_silver = sqlite3.connect('silver_layer.db')\n",
    "cursor_silver = conn_silver.cursor()\n",
    "\n",
    "# Execute the COUNT query\n",
    "cursor_silver.execute('''SELECT COUNT(*) FROM \"911_transformed\";''')\n",
    "count_result = cursor_silver.fetchone()[0]  # Fetch the result and get the count\n",
    "\n",
    "# Print the result\n",
    "print(f\"Number of rows in 911_transformed: {count_result}\")\n",
    "\n",
    "cursor_silver.execute('''SELECT * FROM \"911_transformed\" LIMIT 10 ;''')\n",
    "rows = cursor_silver.fetchall()\n",
    "\n",
    "if rows:\n",
    "    for row in rows:\n",
    "        print(row)\n",
    "else:\n",
    "    print(\"No data found.\")\n",
    "conn_silver.close()"
   ]
  },
  {
   "cell_type": "markdown",
   "id": "539af7a7-c2c6-4e60-941b-41d81bee4051",
   "metadata": {},
   "source": [
    "### Gold Layer"
   ]
  },
  {
   "cell_type": "code",
   "execution_count": 90,
   "id": "4eeabdf0-4d36-42c3-9d14-db407f6673f8",
   "metadata": {},
   "outputs": [],
   "source": [
    "\n",
    "conn_silver = sqlite3.connect('silver_layer.db')\n",
    "df = pd.read_sql_query('SELECT * FROM \"911_transformed\"', conn_silver)\n",
    "\n",
    "\n",
    "# Count of incidents by Location\n",
    "df_location_count = df.groupby('Area_Occ').size().reset_index(name='incident_count')\n",
    "\n",
    "\n",
    "# Count of incidents per day of the week\n",
    "df_day_of_week_count = df.groupby('day_of_week').size().reset_index(name='incident_count')\n",
    "\n",
    "\n",
    "conn_gold = sqlite3.connect('gold_layer.db')\n",
    "\n",
    "\n",
    "df_location_count.to_sql('location_incident_summary', conn_gold, if_exists='replace', index=False)\n",
    "df_day_of_week_count.to_sql('day_of_week_summary', conn_gold, if_exists='replace', index=False)\n",
    "\n",
    "conn_silver.close()\n",
    "conn_gold.close()\n"
   ]
  },
  {
   "cell_type": "code",
   "execution_count": 92,
   "id": "168560a5-ee93-454b-8adc-743684fb2391",
   "metadata": {},
   "outputs": [
    {
     "name": "stdout",
     "output_type": "stream",
     "text": [
      "Location Incident Summary:\n",
      "('77th Street', 192270)\n",
      "('Central', 174201)\n",
      "('Devonshire', 118011)\n",
      "('Foothill', 115431)\n",
      "('Harbor', 120882)\n",
      "('Hollenbeck', 125127)\n",
      "('Hollywood', 168582)\n",
      "('Mission', 141438)\n",
      "('N Hollywood', 149109)\n",
      "('Newton', 159840)\n",
      "('Northeast', 127254)\n",
      "('Olympic', 146472)\n",
      "('Outside', 1734408)\n",
      "('Pacific', 163461)\n",
      "('Rampart', 141279)\n",
      "('Southeast', 141165)\n",
      "('Southwest', 149982)\n",
      "('Topanga', 121596)\n",
      "('Van Nuys', 129996)\n",
      "('West LA', 142203)\n",
      "('West Valley', 124374)\n",
      "('Wilshire', 150714)\n",
      "\n",
      "Day of Week Summary:\n",
      "('Friday', 690504)\n",
      "('Monday', 658698)\n",
      "('Saturday', 661749)\n",
      "('Sunday', 663063)\n",
      "('Thursday', 683889)\n",
      "('Tuesday', 682437)\n",
      "('Wednesday', 697455)\n"
     ]
    }
   ],
   "source": [
    "\n",
    "conn_gold = sqlite3.connect('gold_layer.db')\n",
    "cursor = conn_gold.cursor()\n",
    "\n",
    "\n",
    "cursor.execute('''SELECT * FROM location_incident_summary;''')\n",
    "location_incidents = cursor.fetchall()\n",
    "print(\"Location Incident Summary:\")\n",
    "for row in location_incidents:\n",
    "    print(row)\n",
    "\n",
    "\n",
    "\n",
    "cursor.execute('''SELECT * FROM day_of_week_summary;''')\n",
    "day_of_week_summary = cursor.fetchall()\n",
    "print(\"\\nDay of Week Summary:\")\n",
    "for row in day_of_week_summary:\n",
    "    print(row)\n",
    "\n",
    "# Close the connection\n",
    "conn_gold.close()\n"
   ]
  },
  {
   "cell_type": "code",
   "execution_count": null,
   "id": "b362538e-b0cc-4706-89af-67d425ac2dd3",
   "metadata": {},
   "outputs": [],
   "source": []
  }
 ],
 "metadata": {
  "kernelspec": {
   "display_name": "Python 3 (ipykernel)",
   "language": "python",
   "name": "python3"
  },
  "language_info": {
   "codemirror_mode": {
    "name": "ipython",
    "version": 3
   },
   "file_extension": ".py",
   "mimetype": "text/x-python",
   "name": "python",
   "nbconvert_exporter": "python",
   "pygments_lexer": "ipython3",
   "version": "3.11.8"
  }
 },
 "nbformat": 4,
 "nbformat_minor": 5
}
